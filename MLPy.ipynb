{
 "cells": [
  {
   "metadata": {
    "ExecuteTime": {
     "end_time": "2024-10-08T12:31:50.617625Z",
     "start_time": "2024-10-08T12:31:50.510961Z"
    }
   },
   "cell_type": "code",
   "source": [
    "import pandas as pd\n",
    "df = pd.read_csv(\"https://raw.githubusercontent.com/dataprofessor/data/refs/heads/master/delaney_solubility_with_descriptors.csv\")\n",
    "df"
   ],
   "id": "16301c0dc520b28a",
   "outputs": [
    {
     "data": {
      "text/plain": [
       "      MolLogP    MolWt  NumRotatableBonds  AromaticProportion   logS\n",
       "0     2.59540  167.850                0.0            0.000000 -2.180\n",
       "1     2.37650  133.405                0.0            0.000000 -2.000\n",
       "2     2.59380  167.850                1.0            0.000000 -1.740\n",
       "3     2.02890  133.405                1.0            0.000000 -1.480\n",
       "4     2.91890  187.375                1.0            0.000000 -3.040\n",
       "...       ...      ...                ...                 ...    ...\n",
       "1139  1.98820  287.343                8.0            0.000000  1.144\n",
       "1140  3.42130  286.114                2.0            0.333333 -4.925\n",
       "1141  3.60960  308.333                4.0            0.695652 -3.893\n",
       "1142  2.56214  354.815                3.0            0.521739 -3.790\n",
       "1143  2.02164  179.219                1.0            0.461538 -2.581\n",
       "\n",
       "[1144 rows x 5 columns]"
      ],
      "text/html": [
       "<div>\n",
       "<style scoped>\n",
       "    .dataframe tbody tr th:only-of-type {\n",
       "        vertical-align: middle;\n",
       "    }\n",
       "\n",
       "    .dataframe tbody tr th {\n",
       "        vertical-align: top;\n",
       "    }\n",
       "\n",
       "    .dataframe thead th {\n",
       "        text-align: right;\n",
       "    }\n",
       "</style>\n",
       "<table border=\"1\" class=\"dataframe\">\n",
       "  <thead>\n",
       "    <tr style=\"text-align: right;\">\n",
       "      <th></th>\n",
       "      <th>MolLogP</th>\n",
       "      <th>MolWt</th>\n",
       "      <th>NumRotatableBonds</th>\n",
       "      <th>AromaticProportion</th>\n",
       "      <th>logS</th>\n",
       "    </tr>\n",
       "  </thead>\n",
       "  <tbody>\n",
       "    <tr>\n",
       "      <th>0</th>\n",
       "      <td>2.59540</td>\n",
       "      <td>167.850</td>\n",
       "      <td>0.0</td>\n",
       "      <td>0.000000</td>\n",
       "      <td>-2.180</td>\n",
       "    </tr>\n",
       "    <tr>\n",
       "      <th>1</th>\n",
       "      <td>2.37650</td>\n",
       "      <td>133.405</td>\n",
       "      <td>0.0</td>\n",
       "      <td>0.000000</td>\n",
       "      <td>-2.000</td>\n",
       "    </tr>\n",
       "    <tr>\n",
       "      <th>2</th>\n",
       "      <td>2.59380</td>\n",
       "      <td>167.850</td>\n",
       "      <td>1.0</td>\n",
       "      <td>0.000000</td>\n",
       "      <td>-1.740</td>\n",
       "    </tr>\n",
       "    <tr>\n",
       "      <th>3</th>\n",
       "      <td>2.02890</td>\n",
       "      <td>133.405</td>\n",
       "      <td>1.0</td>\n",
       "      <td>0.000000</td>\n",
       "      <td>-1.480</td>\n",
       "    </tr>\n",
       "    <tr>\n",
       "      <th>4</th>\n",
       "      <td>2.91890</td>\n",
       "      <td>187.375</td>\n",
       "      <td>1.0</td>\n",
       "      <td>0.000000</td>\n",
       "      <td>-3.040</td>\n",
       "    </tr>\n",
       "    <tr>\n",
       "      <th>...</th>\n",
       "      <td>...</td>\n",
       "      <td>...</td>\n",
       "      <td>...</td>\n",
       "      <td>...</td>\n",
       "      <td>...</td>\n",
       "    </tr>\n",
       "    <tr>\n",
       "      <th>1139</th>\n",
       "      <td>1.98820</td>\n",
       "      <td>287.343</td>\n",
       "      <td>8.0</td>\n",
       "      <td>0.000000</td>\n",
       "      <td>1.144</td>\n",
       "    </tr>\n",
       "    <tr>\n",
       "      <th>1140</th>\n",
       "      <td>3.42130</td>\n",
       "      <td>286.114</td>\n",
       "      <td>2.0</td>\n",
       "      <td>0.333333</td>\n",
       "      <td>-4.925</td>\n",
       "    </tr>\n",
       "    <tr>\n",
       "      <th>1141</th>\n",
       "      <td>3.60960</td>\n",
       "      <td>308.333</td>\n",
       "      <td>4.0</td>\n",
       "      <td>0.695652</td>\n",
       "      <td>-3.893</td>\n",
       "    </tr>\n",
       "    <tr>\n",
       "      <th>1142</th>\n",
       "      <td>2.56214</td>\n",
       "      <td>354.815</td>\n",
       "      <td>3.0</td>\n",
       "      <td>0.521739</td>\n",
       "      <td>-3.790</td>\n",
       "    </tr>\n",
       "    <tr>\n",
       "      <th>1143</th>\n",
       "      <td>2.02164</td>\n",
       "      <td>179.219</td>\n",
       "      <td>1.0</td>\n",
       "      <td>0.461538</td>\n",
       "      <td>-2.581</td>\n",
       "    </tr>\n",
       "  </tbody>\n",
       "</table>\n",
       "<p>1144 rows × 5 columns</p>\n",
       "</div>"
      ]
     },
     "execution_count": 6,
     "metadata": {},
     "output_type": "execute_result"
    }
   ],
   "execution_count": 6
  },
  {
   "metadata": {},
   "cell_type": "code",
   "outputs": [],
   "execution_count": null,
   "source": "",
   "id": "c3dcf2116fb8b107"
  },
  {
   "metadata": {},
   "cell_type": "markdown",
   "source": "## **Linear Regression**",
   "id": "be719e900c6a9356"
  },
  {
   "metadata": {
    "ExecuteTime": {
     "end_time": "2024-10-08T12:31:54.901131Z",
     "start_time": "2024-10-08T12:31:54.881367Z"
    }
   },
   "cell_type": "code",
   "source": [
    "y = df[\"logS\"]\n",
    "y"
   ],
   "id": "ebf678d996469b12",
   "outputs": [
    {
     "data": {
      "text/plain": [
       "0      -2.180\n",
       "1      -2.000\n",
       "2      -1.740\n",
       "3      -1.480\n",
       "4      -3.040\n",
       "        ...  \n",
       "1139    1.144\n",
       "1140   -4.925\n",
       "1141   -3.893\n",
       "1142   -3.790\n",
       "1143   -2.581\n",
       "Name: logS, Length: 1144, dtype: float64"
      ]
     },
     "execution_count": 7,
     "metadata": {},
     "output_type": "execute_result"
    }
   ],
   "execution_count": 7
  },
  {
   "metadata": {
    "ExecuteTime": {
     "end_time": "2024-10-08T12:32:05.936223Z",
     "start_time": "2024-10-08T12:32:05.901002Z"
    }
   },
   "cell_type": "code",
   "source": [
    "x = df.drop(\"logS\", axis=1)\n",
    "x"
   ],
   "id": "ace7e952f9f1e40e",
   "outputs": [
    {
     "data": {
      "text/plain": [
       "      MolLogP    MolWt  NumRotatableBonds  AromaticProportion\n",
       "0     2.59540  167.850                0.0            0.000000\n",
       "1     2.37650  133.405                0.0            0.000000\n",
       "2     2.59380  167.850                1.0            0.000000\n",
       "3     2.02890  133.405                1.0            0.000000\n",
       "4     2.91890  187.375                1.0            0.000000\n",
       "...       ...      ...                ...                 ...\n",
       "1139  1.98820  287.343                8.0            0.000000\n",
       "1140  3.42130  286.114                2.0            0.333333\n",
       "1141  3.60960  308.333                4.0            0.695652\n",
       "1142  2.56214  354.815                3.0            0.521739\n",
       "1143  2.02164  179.219                1.0            0.461538\n",
       "\n",
       "[1144 rows x 4 columns]"
      ],
      "text/html": [
       "<div>\n",
       "<style scoped>\n",
       "    .dataframe tbody tr th:only-of-type {\n",
       "        vertical-align: middle;\n",
       "    }\n",
       "\n",
       "    .dataframe tbody tr th {\n",
       "        vertical-align: top;\n",
       "    }\n",
       "\n",
       "    .dataframe thead th {\n",
       "        text-align: right;\n",
       "    }\n",
       "</style>\n",
       "<table border=\"1\" class=\"dataframe\">\n",
       "  <thead>\n",
       "    <tr style=\"text-align: right;\">\n",
       "      <th></th>\n",
       "      <th>MolLogP</th>\n",
       "      <th>MolWt</th>\n",
       "      <th>NumRotatableBonds</th>\n",
       "      <th>AromaticProportion</th>\n",
       "    </tr>\n",
       "  </thead>\n",
       "  <tbody>\n",
       "    <tr>\n",
       "      <th>0</th>\n",
       "      <td>2.59540</td>\n",
       "      <td>167.850</td>\n",
       "      <td>0.0</td>\n",
       "      <td>0.000000</td>\n",
       "    </tr>\n",
       "    <tr>\n",
       "      <th>1</th>\n",
       "      <td>2.37650</td>\n",
       "      <td>133.405</td>\n",
       "      <td>0.0</td>\n",
       "      <td>0.000000</td>\n",
       "    </tr>\n",
       "    <tr>\n",
       "      <th>2</th>\n",
       "      <td>2.59380</td>\n",
       "      <td>167.850</td>\n",
       "      <td>1.0</td>\n",
       "      <td>0.000000</td>\n",
       "    </tr>\n",
       "    <tr>\n",
       "      <th>3</th>\n",
       "      <td>2.02890</td>\n",
       "      <td>133.405</td>\n",
       "      <td>1.0</td>\n",
       "      <td>0.000000</td>\n",
       "    </tr>\n",
       "    <tr>\n",
       "      <th>4</th>\n",
       "      <td>2.91890</td>\n",
       "      <td>187.375</td>\n",
       "      <td>1.0</td>\n",
       "      <td>0.000000</td>\n",
       "    </tr>\n",
       "    <tr>\n",
       "      <th>...</th>\n",
       "      <td>...</td>\n",
       "      <td>...</td>\n",
       "      <td>...</td>\n",
       "      <td>...</td>\n",
       "    </tr>\n",
       "    <tr>\n",
       "      <th>1139</th>\n",
       "      <td>1.98820</td>\n",
       "      <td>287.343</td>\n",
       "      <td>8.0</td>\n",
       "      <td>0.000000</td>\n",
       "    </tr>\n",
       "    <tr>\n",
       "      <th>1140</th>\n",
       "      <td>3.42130</td>\n",
       "      <td>286.114</td>\n",
       "      <td>2.0</td>\n",
       "      <td>0.333333</td>\n",
       "    </tr>\n",
       "    <tr>\n",
       "      <th>1141</th>\n",
       "      <td>3.60960</td>\n",
       "      <td>308.333</td>\n",
       "      <td>4.0</td>\n",
       "      <td>0.695652</td>\n",
       "    </tr>\n",
       "    <tr>\n",
       "      <th>1142</th>\n",
       "      <td>2.56214</td>\n",
       "      <td>354.815</td>\n",
       "      <td>3.0</td>\n",
       "      <td>0.521739</td>\n",
       "    </tr>\n",
       "    <tr>\n",
       "      <th>1143</th>\n",
       "      <td>2.02164</td>\n",
       "      <td>179.219</td>\n",
       "      <td>1.0</td>\n",
       "      <td>0.461538</td>\n",
       "    </tr>\n",
       "  </tbody>\n",
       "</table>\n",
       "<p>1144 rows × 4 columns</p>\n",
       "</div>"
      ]
     },
     "execution_count": 10,
     "metadata": {},
     "output_type": "execute_result"
    }
   ],
   "execution_count": 10
  },
  {
   "metadata": {
    "ExecuteTime": {
     "end_time": "2024-10-08T13:00:17.705841Z",
     "start_time": "2024-10-08T13:00:16.339801Z"
    }
   },
   "cell_type": "code",
   "source": [
    "from sklearn.model_selection import train_test_split\n",
    "x_train, x_test, y_train, y_test = train_test_split(x, y, test_size=0.2, random_state=42)\n",
    "x_train"
   ],
   "id": "2f9f1fa059e07c82",
   "outputs": [
    {
     "data": {
      "text/plain": [
       "      MolLogP    MolWt  NumRotatableBonds  AromaticProportion\n",
       "643   3.61260  296.410                0.0            0.272727\n",
       "722   6.48760  226.448               13.0            0.000000\n",
       "570   3.15380  284.746                1.0            0.600000\n",
       "66    0.77880   74.123                2.0            0.000000\n",
       "1002  1.82140  102.177                3.0            0.000000\n",
       "...       ...      ...                ...                 ...\n",
       "1044  2.82960  253.305                1.0            0.631579\n",
       "1095  2.10750  218.322                3.0            0.000000\n",
       "1130  4.14820  335.282                7.0            0.260870\n",
       "860   4.25720  275.179                4.0            0.352941\n",
       "1126  6.25676  368.369                6.0            0.692308\n",
       "\n",
       "[915 rows x 4 columns]"
      ],
      "text/html": [
       "<div>\n",
       "<style scoped>\n",
       "    .dataframe tbody tr th:only-of-type {\n",
       "        vertical-align: middle;\n",
       "    }\n",
       "\n",
       "    .dataframe tbody tr th {\n",
       "        vertical-align: top;\n",
       "    }\n",
       "\n",
       "    .dataframe thead th {\n",
       "        text-align: right;\n",
       "    }\n",
       "</style>\n",
       "<table border=\"1\" class=\"dataframe\">\n",
       "  <thead>\n",
       "    <tr style=\"text-align: right;\">\n",
       "      <th></th>\n",
       "      <th>MolLogP</th>\n",
       "      <th>MolWt</th>\n",
       "      <th>NumRotatableBonds</th>\n",
       "      <th>AromaticProportion</th>\n",
       "    </tr>\n",
       "  </thead>\n",
       "  <tbody>\n",
       "    <tr>\n",
       "      <th>643</th>\n",
       "      <td>3.61260</td>\n",
       "      <td>296.410</td>\n",
       "      <td>0.0</td>\n",
       "      <td>0.272727</td>\n",
       "    </tr>\n",
       "    <tr>\n",
       "      <th>722</th>\n",
       "      <td>6.48760</td>\n",
       "      <td>226.448</td>\n",
       "      <td>13.0</td>\n",
       "      <td>0.000000</td>\n",
       "    </tr>\n",
       "    <tr>\n",
       "      <th>570</th>\n",
       "      <td>3.15380</td>\n",
       "      <td>284.746</td>\n",
       "      <td>1.0</td>\n",
       "      <td>0.600000</td>\n",
       "    </tr>\n",
       "    <tr>\n",
       "      <th>66</th>\n",
       "      <td>0.77880</td>\n",
       "      <td>74.123</td>\n",
       "      <td>2.0</td>\n",
       "      <td>0.000000</td>\n",
       "    </tr>\n",
       "    <tr>\n",
       "      <th>1002</th>\n",
       "      <td>1.82140</td>\n",
       "      <td>102.177</td>\n",
       "      <td>3.0</td>\n",
       "      <td>0.000000</td>\n",
       "    </tr>\n",
       "    <tr>\n",
       "      <th>...</th>\n",
       "      <td>...</td>\n",
       "      <td>...</td>\n",
       "      <td>...</td>\n",
       "      <td>...</td>\n",
       "    </tr>\n",
       "    <tr>\n",
       "      <th>1044</th>\n",
       "      <td>2.82960</td>\n",
       "      <td>253.305</td>\n",
       "      <td>1.0</td>\n",
       "      <td>0.631579</td>\n",
       "    </tr>\n",
       "    <tr>\n",
       "      <th>1095</th>\n",
       "      <td>2.10750</td>\n",
       "      <td>218.322</td>\n",
       "      <td>3.0</td>\n",
       "      <td>0.000000</td>\n",
       "    </tr>\n",
       "    <tr>\n",
       "      <th>1130</th>\n",
       "      <td>4.14820</td>\n",
       "      <td>335.282</td>\n",
       "      <td>7.0</td>\n",
       "      <td>0.260870</td>\n",
       "    </tr>\n",
       "    <tr>\n",
       "      <th>860</th>\n",
       "      <td>4.25720</td>\n",
       "      <td>275.179</td>\n",
       "      <td>4.0</td>\n",
       "      <td>0.352941</td>\n",
       "    </tr>\n",
       "    <tr>\n",
       "      <th>1126</th>\n",
       "      <td>6.25676</td>\n",
       "      <td>368.369</td>\n",
       "      <td>6.0</td>\n",
       "      <td>0.692308</td>\n",
       "    </tr>\n",
       "  </tbody>\n",
       "</table>\n",
       "<p>915 rows × 4 columns</p>\n",
       "</div>"
      ]
     },
     "execution_count": 11,
     "metadata": {},
     "output_type": "execute_result"
    }
   ],
   "execution_count": 11
  },
  {
   "metadata": {
    "ExecuteTime": {
     "end_time": "2024-10-08T13:00:53.063294Z",
     "start_time": "2024-10-08T13:00:53.034072Z"
    }
   },
   "cell_type": "code",
   "source": "x_test\n",
   "id": "4a22ebbd434144f6",
   "outputs": [
    {
     "data": {
      "text/plain": [
       "      MolLogP    MolWt  NumRotatableBonds  AromaticProportion\n",
       "218   1.55740  102.177                3.0            0.000000\n",
       "809   5.20590  345.653                4.0            0.571429\n",
       "501   4.18090  339.218                4.0            0.545455\n",
       "649   2.05760  286.349                4.0            0.315789\n",
       "323   0.72822  146.153                0.0            0.909091\n",
       "...       ...      ...                ...                 ...\n",
       "361  -0.50840   59.068                0.0            0.000000\n",
       "292   1.94750  116.204                3.0            0.000000\n",
       "1119  2.16090  257.437                3.0            0.000000\n",
       "557   3.36680  138.254                0.0            0.000000\n",
       "448   1.40120  108.966                0.0            0.000000\n",
       "\n",
       "[229 rows x 4 columns]"
      ],
      "text/html": [
       "<div>\n",
       "<style scoped>\n",
       "    .dataframe tbody tr th:only-of-type {\n",
       "        vertical-align: middle;\n",
       "    }\n",
       "\n",
       "    .dataframe tbody tr th {\n",
       "        vertical-align: top;\n",
       "    }\n",
       "\n",
       "    .dataframe thead th {\n",
       "        text-align: right;\n",
       "    }\n",
       "</style>\n",
       "<table border=\"1\" class=\"dataframe\">\n",
       "  <thead>\n",
       "    <tr style=\"text-align: right;\">\n",
       "      <th></th>\n",
       "      <th>MolLogP</th>\n",
       "      <th>MolWt</th>\n",
       "      <th>NumRotatableBonds</th>\n",
       "      <th>AromaticProportion</th>\n",
       "    </tr>\n",
       "  </thead>\n",
       "  <tbody>\n",
       "    <tr>\n",
       "      <th>218</th>\n",
       "      <td>1.55740</td>\n",
       "      <td>102.177</td>\n",
       "      <td>3.0</td>\n",
       "      <td>0.000000</td>\n",
       "    </tr>\n",
       "    <tr>\n",
       "      <th>809</th>\n",
       "      <td>5.20590</td>\n",
       "      <td>345.653</td>\n",
       "      <td>4.0</td>\n",
       "      <td>0.571429</td>\n",
       "    </tr>\n",
       "    <tr>\n",
       "      <th>501</th>\n",
       "      <td>4.18090</td>\n",
       "      <td>339.218</td>\n",
       "      <td>4.0</td>\n",
       "      <td>0.545455</td>\n",
       "    </tr>\n",
       "    <tr>\n",
       "      <th>649</th>\n",
       "      <td>2.05760</td>\n",
       "      <td>286.349</td>\n",
       "      <td>4.0</td>\n",
       "      <td>0.315789</td>\n",
       "    </tr>\n",
       "    <tr>\n",
       "      <th>323</th>\n",
       "      <td>0.72822</td>\n",
       "      <td>146.153</td>\n",
       "      <td>0.0</td>\n",
       "      <td>0.909091</td>\n",
       "    </tr>\n",
       "    <tr>\n",
       "      <th>...</th>\n",
       "      <td>...</td>\n",
       "      <td>...</td>\n",
       "      <td>...</td>\n",
       "      <td>...</td>\n",
       "    </tr>\n",
       "    <tr>\n",
       "      <th>361</th>\n",
       "      <td>-0.50840</td>\n",
       "      <td>59.068</td>\n",
       "      <td>0.0</td>\n",
       "      <td>0.000000</td>\n",
       "    </tr>\n",
       "    <tr>\n",
       "      <th>292</th>\n",
       "      <td>1.94750</td>\n",
       "      <td>116.204</td>\n",
       "      <td>3.0</td>\n",
       "      <td>0.000000</td>\n",
       "    </tr>\n",
       "    <tr>\n",
       "      <th>1119</th>\n",
       "      <td>2.16090</td>\n",
       "      <td>257.437</td>\n",
       "      <td>3.0</td>\n",
       "      <td>0.000000</td>\n",
       "    </tr>\n",
       "    <tr>\n",
       "      <th>557</th>\n",
       "      <td>3.36680</td>\n",
       "      <td>138.254</td>\n",
       "      <td>0.0</td>\n",
       "      <td>0.000000</td>\n",
       "    </tr>\n",
       "    <tr>\n",
       "      <th>448</th>\n",
       "      <td>1.40120</td>\n",
       "      <td>108.966</td>\n",
       "      <td>0.0</td>\n",
       "      <td>0.000000</td>\n",
       "    </tr>\n",
       "  </tbody>\n",
       "</table>\n",
       "<p>229 rows × 4 columns</p>\n",
       "</div>"
      ]
     },
     "execution_count": 12,
     "metadata": {},
     "output_type": "execute_result"
    }
   ],
   "execution_count": 12
  },
  {
   "metadata": {
    "ExecuteTime": {
     "end_time": "2024-10-08T13:06:25.710670Z",
     "start_time": "2024-10-08T13:06:25.524133Z"
    }
   },
   "cell_type": "code",
   "source": [
    "from sklearn.linear_model import LinearRegression\n",
    "lr = LinearRegression()\n",
    "lr.fit(x_train, y_train)"
   ],
   "id": "5e4f297d23610a94",
   "outputs": [
    {
     "data": {
      "text/plain": [
       "LinearRegression()"
      ],
      "text/html": [
       "<style>#sk-container-id-1 {color: black;}#sk-container-id-1 pre{padding: 0;}#sk-container-id-1 div.sk-toggleable {background-color: white;}#sk-container-id-1 label.sk-toggleable__label {cursor: pointer;display: block;width: 100%;margin-bottom: 0;padding: 0.3em;box-sizing: border-box;text-align: center;}#sk-container-id-1 label.sk-toggleable__label-arrow:before {content: \"▸\";float: left;margin-right: 0.25em;color: #696969;}#sk-container-id-1 label.sk-toggleable__label-arrow:hover:before {color: black;}#sk-container-id-1 div.sk-estimator:hover label.sk-toggleable__label-arrow:before {color: black;}#sk-container-id-1 div.sk-toggleable__content {max-height: 0;max-width: 0;overflow: hidden;text-align: left;background-color: #f0f8ff;}#sk-container-id-1 div.sk-toggleable__content pre {margin: 0.2em;color: black;border-radius: 0.25em;background-color: #f0f8ff;}#sk-container-id-1 input.sk-toggleable__control:checked~div.sk-toggleable__content {max-height: 200px;max-width: 100%;overflow: auto;}#sk-container-id-1 input.sk-toggleable__control:checked~label.sk-toggleable__label-arrow:before {content: \"▾\";}#sk-container-id-1 div.sk-estimator input.sk-toggleable__control:checked~label.sk-toggleable__label {background-color: #d4ebff;}#sk-container-id-1 div.sk-label input.sk-toggleable__control:checked~label.sk-toggleable__label {background-color: #d4ebff;}#sk-container-id-1 input.sk-hidden--visually {border: 0;clip: rect(1px 1px 1px 1px);clip: rect(1px, 1px, 1px, 1px);height: 1px;margin: -1px;overflow: hidden;padding: 0;position: absolute;width: 1px;}#sk-container-id-1 div.sk-estimator {font-family: monospace;background-color: #f0f8ff;border: 1px dotted black;border-radius: 0.25em;box-sizing: border-box;margin-bottom: 0.5em;}#sk-container-id-1 div.sk-estimator:hover {background-color: #d4ebff;}#sk-container-id-1 div.sk-parallel-item::after {content: \"\";width: 100%;border-bottom: 1px solid gray;flex-grow: 1;}#sk-container-id-1 div.sk-label:hover label.sk-toggleable__label {background-color: #d4ebff;}#sk-container-id-1 div.sk-serial::before {content: \"\";position: absolute;border-left: 1px solid gray;box-sizing: border-box;top: 0;bottom: 0;left: 50%;z-index: 0;}#sk-container-id-1 div.sk-serial {display: flex;flex-direction: column;align-items: center;background-color: white;padding-right: 0.2em;padding-left: 0.2em;position: relative;}#sk-container-id-1 div.sk-item {position: relative;z-index: 1;}#sk-container-id-1 div.sk-parallel {display: flex;align-items: stretch;justify-content: center;background-color: white;position: relative;}#sk-container-id-1 div.sk-item::before, #sk-container-id-1 div.sk-parallel-item::before {content: \"\";position: absolute;border-left: 1px solid gray;box-sizing: border-box;top: 0;bottom: 0;left: 50%;z-index: -1;}#sk-container-id-1 div.sk-parallel-item {display: flex;flex-direction: column;z-index: 1;position: relative;background-color: white;}#sk-container-id-1 div.sk-parallel-item:first-child::after {align-self: flex-end;width: 50%;}#sk-container-id-1 div.sk-parallel-item:last-child::after {align-self: flex-start;width: 50%;}#sk-container-id-1 div.sk-parallel-item:only-child::after {width: 0;}#sk-container-id-1 div.sk-dashed-wrapped {border: 1px dashed gray;margin: 0 0.4em 0.5em 0.4em;box-sizing: border-box;padding-bottom: 0.4em;background-color: white;}#sk-container-id-1 div.sk-label label {font-family: monospace;font-weight: bold;display: inline-block;line-height: 1.2em;}#sk-container-id-1 div.sk-label-container {text-align: center;}#sk-container-id-1 div.sk-container {/* jupyter's `normalize.less` sets `[hidden] { display: none; }` but bootstrap.min.css set `[hidden] { display: none !important; }` so we also need the `!important` here to be able to override the default hidden behavior on the sphinx rendered scikit-learn.org. See: https://github.com/scikit-learn/scikit-learn/issues/21755 */display: inline-block !important;position: relative;}#sk-container-id-1 div.sk-text-repr-fallback {display: none;}</style><div id=\"sk-container-id-1\" class=\"sk-top-container\"><div class=\"sk-text-repr-fallback\"><pre>LinearRegression()</pre><b>In a Jupyter environment, please rerun this cell to show the HTML representation or trust the notebook. <br />On GitHub, the HTML representation is unable to render, please try loading this page with nbviewer.org.</b></div><div class=\"sk-container\" hidden><div class=\"sk-item\"><div class=\"sk-estimator sk-toggleable\"><input class=\"sk-toggleable__control sk-hidden--visually\" id=\"sk-estimator-id-1\" type=\"checkbox\" checked><label for=\"sk-estimator-id-1\" class=\"sk-toggleable__label sk-toggleable__label-arrow\">LinearRegression</label><div class=\"sk-toggleable__content\"><pre>LinearRegression()</pre></div></div></div></div></div>"
      ]
     },
     "execution_count": 13,
     "metadata": {},
     "output_type": "execute_result"
    }
   ],
   "execution_count": 13
  },
  {
   "metadata": {
    "ExecuteTime": {
     "end_time": "2024-10-08T13:08:28.214387Z",
     "start_time": "2024-10-08T13:08:28.187783Z"
    }
   },
   "cell_type": "code",
   "source": [
    "y_lr_train_pred = lr.predict(x_train)\n",
    "y_lr_test_pred = lr.predict(x_test)"
   ],
   "id": "b6d82b421eaa037a",
   "outputs": [],
   "execution_count": 14
  },
  {
   "metadata": {
    "ExecuteTime": {
     "end_time": "2024-10-08T13:09:36.542136Z",
     "start_time": "2024-10-08T13:09:36.506325Z"
    }
   },
   "cell_type": "code",
   "source": "y_lr_train_pred",
   "id": "4930abd25ce0b6f0",
   "outputs": [
    {
     "data": {
      "text/plain": [
       "array([ -4.47026156,  -5.88839323,  -4.22029229,  -0.79352323,\n",
       "        -1.73062942,  -1.26187649,  -1.43969557,  -2.36087206,\n",
       "        -2.77481055,  -2.23755209,  -4.15424648,  -8.49226359,\n",
       "        -4.26355722,  -1.5773174 ,  -2.61749814,  -0.72935686,\n",
       "        -3.18513222,  -3.71048234,  -1.57995763,  -5.11539503,\n",
       "        -1.90340063,  -4.18841892,  -4.85523085,  -2.13317387,\n",
       "        -3.34701685,  -3.45842365,  -3.73715663,  -3.61882675,\n",
       "        -3.02530867,  -2.82178231,  -1.54861269,  -2.73630968,\n",
       "        -1.79353838,  -6.49056433,  -2.19068424,  -4.10802907,\n",
       "        -2.7303035 ,  -2.28598248,  -2.60739155,  -3.64519507,\n",
       "        -2.65218678,  -4.35285798,   1.91721982,  -3.70871993,\n",
       "        -3.50138017,  -2.71898539,  -4.77720737,  -3.38184768,\n",
       "        -1.71815824,  -2.79713356,  -5.26774517,  -2.96884167,\n",
       "        -2.27709013,  -2.76017539,  -2.12748391,  -2.3140745 ,\n",
       "        -7.74681081,  -3.21253144,  -1.76376134,  -4.17337487,\n",
       "        -2.93249251,  -0.51506669,  -3.06834756,  -0.72788913,\n",
       "        -4.05296417,  -2.03616338,  -2.67036427,  -6.08064174,\n",
       "        -5.49773266,  -2.9647599 ,  -2.96100034,  -2.60084617,\n",
       "        -0.6827446 ,  -4.3585946 ,  -4.0043512 ,  -0.79738924,\n",
       "        -3.34044901,  -1.56377011,  -2.19761587,  -1.11416728,\n",
       "        -1.82672415,  -4.54679498,  -5.39336962,  -3.35057255,\n",
       "        -1.43769254,  -2.59386818,  -5.0338893 ,  -4.99765259,\n",
       "        -4.8997667 ,  -1.16441496,  -2.64509058,   1.39936011,\n",
       "         0.01242659,  -2.20985267,  -1.37887588,  -5.53667654,\n",
       "        -1.44974826,  -0.7796894 ,  -6.55748455,  -3.43117797,\n",
       "        -3.38057188,  -1.44085591,  -3.67783751,  -4.1593352 ,\n",
       "        -2.6803058 ,  -0.58590302,  -4.77815138,  -2.54561346,\n",
       "        -0.42618347,  -0.70287549,  -2.06797098,  -3.00792612,\n",
       "        -2.83552267,  -1.54025749,  -6.01542152,  -1.81446383,\n",
       "        -4.98860572,  -5.1403329 ,  -2.07607676,  -0.56359351,\n",
       "        -0.79092247,  -2.38738366,  -2.87529252,  -4.25585109,\n",
       "        -1.85688211,  -5.47997057,  -0.15237579,  -3.86722215,\n",
       "        -3.40567511,  -1.16828096,  -3.0571832 ,  -2.7303035 ,\n",
       "        -4.85523085,  -1.38125051,  -1.70910714,  -2.93481005,\n",
       "        -2.27419885,  -3.94320804,  -2.91347828,  -3.79600415,\n",
       "        -6.64215698,  -0.82000533,  -3.76867198,  -0.51613106,\n",
       "        -1.81981733,  -3.96125236,  -3.54500416,  -2.37052336,\n",
       "        -3.41259165,  -1.79353838,  -3.39363131,  -1.45279161,\n",
       "        -4.28364627,  -2.44484282,  -1.41163293,  -2.24540864,\n",
       "        -3.01887358,  -5.24422393,  -2.996998  ,  -2.37455166,\n",
       "        -5.14660978,  -7.38690482,  -3.16310546,  -1.98006043,\n",
       "        -4.95579009,   0.04116924,  -2.62183065,  -6.08064174,\n",
       "        -1.93958904,  -1.71610939,  -2.46165126,  -4.32947161,\n",
       "        -2.17947599,  -2.70709475,  -0.24806662,  -3.73405795,\n",
       "        -1.35587169,  -2.04768625,  -1.62686618,  -1.2679672 ,\n",
       "        -4.19146993,  -1.53917269,  -2.39596484,  -2.35071265,\n",
       "        -6.49909096,  -3.43202403,  -1.481193  ,  -7.74681081,\n",
       "        -0.96842783,  -2.74810203,  -1.85208473,  -7.74681081,\n",
       "        -2.8401647 ,  -4.38425128,  -2.65184786,   0.33631985,\n",
       "        -1.53329109,  -1.65450802,  -2.78712359,  -4.84716047,\n",
       "        -1.72676342,  -0.75919502,  -1.481193  ,  -1.05034745,\n",
       "        -1.90619841,  -2.23348727,  -6.62740455,  -0.06538507,\n",
       "        -5.60498883,  -1.73449543,  -3.85457389,  -2.07999886,\n",
       "        -6.03150164,  -2.24778827,  -2.1143171 ,  -1.55596252,\n",
       "        -8.43136399,  -4.17536325,  -2.36563493,  -1.63779456,\n",
       "         1.67007582,  -4.21620768,  -4.924424  ,  -2.50017466,\n",
       "        -2.35141347,  -0.46419517,  -3.96774146,  -3.10324961,\n",
       "        -3.51065394,  -3.69536693,  -1.12854214,  -1.30087645,\n",
       "        -1.53000156,  -6.07970624,  -4.46521697,  -3.22251183,\n",
       "        -0.73940956,  -7.09739995,  -4.25803604,  -2.43277423,\n",
       "        -3.1965235 ,  -1.61659642,  -4.62616911,  -2.95834157,\n",
       "        -1.91765773,  -0.40839263,  -4.91736127,  -3.28614971,\n",
       "        -1.07803388,  -3.64076485,  -3.77107905,   1.92108582,\n",
       "        -2.00278425,  -2.07377475,  -2.83616057,  -3.92125365,\n",
       "        -4.51111905,  -3.46513743,  -1.17917996,  -3.70145519,\n",
       "        -4.27550756,  -3.42396531,  -2.83381209,  -3.71048234,\n",
       "        -2.00868628,  -1.36248095,  -1.88901882,  -1.57229105,\n",
       "        -3.8397806 ,  -3.76065703,  -6.38434339,  -1.16828096,\n",
       "        -1.38125051,  -2.33457807,  -0.58713291,  -2.72417345,\n",
       "        -1.65197886,  -2.69413937,  -7.06434044,  -2.02766608,\n",
       "        -2.35954011,  -6.60306436,  -2.88574916,  -1.07376721,\n",
       "        -0.68405787,  -4.96167141,  -3.84233628,  -3.35723189,\n",
       "        -0.86943094,  -2.78451271,  -4.89319286,  -2.74249638,\n",
       "        -1.84603991,  -5.25301686,  -3.26802654,  -2.14103699,\n",
       "        -4.73977666,  -2.67459189,  -5.71699206,  -7.06434044,\n",
       "        -2.55036771,  -3.68118277,  -3.375713  ,  -5.0338893 ,\n",
       "        -4.68202143,  -1.55596252,  -2.7894697 ,  -1.86811519,\n",
       "        -7.74681081,  -2.28095614,  -1.91048017,  -2.02067903,\n",
       "        -4.03305087,  -3.76121012,  -7.04012802,  -1.62406158,\n",
       "        -2.6231266 ,  -1.34518182,  -2.15318738,  -2.35141347,\n",
       "        -2.19420946,  -2.82380836,  -1.86074812,  -3.50099312,\n",
       "        -5.70731435,  -2.74784805,  -3.12186165,  -4.30890626,\n",
       "        -3.25692838,  -5.52305268,  -3.35550647,  -2.56160078,\n",
       "        -2.92125944,  -1.17330731,  -3.66597529,  -1.23711502,\n",
       "        -6.38434339,  -2.77462455,  -3.84233628,  -2.35071265,\n",
       "        -3.71048234,  -2.33620302,  -0.90164992,  -5.26282707,\n",
       "        -5.52305268,  -2.36563493,  -2.34287242,  -2.54261316,\n",
       "        -3.12176713,  -1.83491641,  -2.15018792,  -3.43345574,\n",
       "        -4.20629271,  -2.72662735,  -3.36855833,  -7.87775312,\n",
       "        -1.76207518,  -2.61032318,  -3.21464743,  -3.39488816,\n",
       "        -3.93974134,  -4.2248324 ,  -8.82772502,  -5.43705526,\n",
       "        -1.848732  ,  -2.77481055,  -3.27359106,   0.44067022,\n",
       "        -2.83873218,  -2.96955729,  -4.30478482,  -2.3092199 ,\n",
       "        -1.91509076,  -1.00077146,  -0.38327695,  -3.79991891,\n",
       "        -4.1204142 ,  -3.24951665,  -2.77634663,   1.91721982,\n",
       "         0.32417829,  -4.54875364,  -2.97377486,  -0.36851783,\n",
       "        -2.06823382,   0.79011482,  -4.82810675,  -3.81759853,\n",
       "        -1.91114922,  -1.99090308,  -0.60264381,  -3.81273111,\n",
       "        -0.42263151,  -1.99294951,  -2.56278227,  -2.15471802,\n",
       "        -2.5685076 ,  -2.5081743 ,  -1.15430254,  -4.40928027,\n",
       "        -3.64519507,   1.67007582,  -3.93153406,  -2.06711975,\n",
       "        -2.76017539,  -5.40996088,  -2.19420946,  -5.70731435,\n",
       "        -1.45154028,  -5.23361072,  -1.99930011,  -9.59731048,\n",
       "        -6.01542152,  -1.45105013,  -3.10413898,  -3.00812684,\n",
       "        -3.61975468,  -3.84233628,  -0.42649751,  -0.89795116,\n",
       "        -3.05785577,  -1.41494749,  -2.29114469,  -1.98006043,\n",
       "        -6.6659937 ,  -2.20148188,  -2.06797098,  -2.91190979,\n",
       "        -3.57036627,  -3.27132367,  -4.61251682,  -2.50017466,\n",
       "        -4.54440128,  -7.23908227,  -3.16310546,  -0.36768006,\n",
       "        -3.49388692,  -1.15380175,  -2.04768625,  -2.46165126,\n",
       "        -2.52335094,  -2.20288627,  -4.23559327,  -0.85263612,\n",
       "        -2.68523832,  -1.60447227,  -1.46022982,  -2.36727673,\n",
       "        -1.20116822,  -3.79048137,  -2.19070906,  -2.08696527,\n",
       "        -4.77546262,  -1.74930816,  -5.0338893 ,  -2.06797098,\n",
       "        -1.06493784,  -4.15371865,  -3.06158669,  -7.99010696,\n",
       "        -9.11768755,  -2.32688291,  -4.16863745,  -5.49773266,\n",
       "        -3.548675  ,  -2.56790562,  -4.70078312,  -1.37166319,\n",
       "        -7.06434044, -10.49468016,  -4.60023022,  -6.53562525,\n",
       "        -3.6601989 ,  -0.41346038,  -2.68734687,  -0.35846514,\n",
       "        -0.58574145,  -4.07743508,  -5.98600738,  -4.32226889,\n",
       "        -0.60387335,  -5.0338893 ,  -3.70654335,  -3.27132367,\n",
       "        -5.78785941,  -0.93501107,  -2.64798186,  -3.10154551,\n",
       "        -1.61870689,  -2.08459955,  -6.97808189,  -2.45591694,\n",
       "        -3.51406764,  -2.82968503,  -2.41344464,  -2.61515974,\n",
       "        -2.38003463,  -4.66705159,  -2.57572244,  -4.33759856,\n",
       "        -1.91006441,  -4.46521697,  -7.74681081,  -1.11030128,\n",
       "        -2.15726467,  -5.73548054,  -1.06124862,  -2.19420946,\n",
       "        -3.81309463,  -2.57572244,  -2.31309862,  -5.0338893 ,\n",
       "        -0.61285422,  -2.22297645,  -2.46334829,  -3.06330591,\n",
       "        -1.5773174 ,  -1.65197886,  -2.37433232,  -3.36042503,\n",
       "        -2.64006423,  -2.56091111,  -3.90832695,  -1.8269682 ,\n",
       "        -1.56074582,  -4.28738168,  -1.8310504 ,  -1.71111017,\n",
       "        -1.26690284,  -3.85517799,  -4.74313811,  -0.73713926,\n",
       "        -6.58575354,  -2.62282807,  -4.45989073,  -1.11030128,\n",
       "        -1.20642568,  -2.30287249,  -2.65359735,  -2.68618653,\n",
       "        -4.62104159,  -1.96319875,  -4.71721703,  -3.93153406,\n",
       "        -7.74681081,  -1.43582956,  -1.3059028 ,  -1.64887025,\n",
       "        -0.74457998,  -4.09240259,  -4.50244048,  -3.20329668,\n",
       "        -5.82903696,  -1.5471222 ,  -2.49148584,  -5.7573019 ,\n",
       "        -3.94205374,  -2.50017466,  -2.72015257,  -2.05153285,\n",
       "        -1.06680081,  -2.33457807,  -3.43044204,  -3.84042681,\n",
       "        -4.01906648,  -3.76910722,  -3.79048137,  -1.81345419,\n",
       "        -2.63375786,  -5.05314827,  -5.69143845,  -2.30714445,\n",
       "        -4.19146993,  -0.14021299,  -1.63779456,  -3.71728369,\n",
       "        -0.44524761,  -3.38680153,  -5.02993444,   0.69126698,\n",
       "        -2.96920217,  -1.80858426,  -1.64282091,  -1.27405085,\n",
       "        -0.559093  ,  -2.69096096,  -1.62825992,  -5.26027744,\n",
       "        -0.40377133,  -2.28598248,  -3.27132367,  -2.2291902 ,\n",
       "        -1.38171588,  -6.02231728,  -5.98901432,  -0.92998473,\n",
       "        -5.74434197,  -0.57066984,  -2.77481055,  -1.31048759,\n",
       "        -6.02669642,  -3.25962057,  -2.30427287,  -2.50075203,\n",
       "        -1.83711529,  -1.72387462,  -2.62963114,  -3.7153833 ,\n",
       "        -0.31496467,  -1.34135166,  -3.12186165,  -4.59900602,\n",
       "        -4.4730887 ,  -1.98052174,  -1.58396613,  -1.53178706,\n",
       "        -0.40670536,  -5.70731435,  -1.75908042,  -3.64519507,\n",
       "        -3.0542821 ,  -1.63276821,  -1.46197851,  -1.51311018,\n",
       "        -3.55504124,  -3.11633511,  -6.08562232,  -2.54329156,\n",
       "        -3.01203147,  -2.8694715 ,  -3.02273851,  -3.59107434,\n",
       "        -9.11768755,  -1.82784389,  -5.70731435,  -2.66239677,\n",
       "        -3.68657785,  -3.16036142,  -3.07201008,  -2.22297645,\n",
       "        -4.17374456,  -3.34420736,  -4.60015378,  -0.53725099,\n",
       "        -4.01906648,  -3.88122514,  -0.73940956,  -2.41857797,\n",
       "        -1.3059028 ,  -6.45144634,  -4.48924825,  -3.04529463,\n",
       "        -1.98006043,  -4.18387959,  -1.2738525 ,  -1.5873701 ,\n",
       "        -2.35299784,  -2.86707273,  -5.20052711,  -4.46521697,\n",
       "        -1.481193  ,  -5.44227052,  -0.69088274,  -5.49773266,\n",
       "        -3.13820552,  -7.17419395,  -0.89098476,  -3.53262945,\n",
       "         0.61477871,   0.86184109,  -4.0467486 ,  -7.06434044,\n",
       "        -7.06434044,  -3.18284392,  -2.7894697 ,  -2.63557668,\n",
       "        -5.78857332,  -3.33565163,  -3.8857187 ,  -1.54861269,\n",
       "        -1.81555066,  -0.98859891,  -2.06797098,  -8.43136399,\n",
       "        -3.9119996 ,  -3.47220115,  -7.74681081,  -3.02229001,\n",
       "        -3.00812684,  -3.72143923,  -1.08259412,   1.83903554,\n",
       "        -4.94659378,  -2.03860676,  -1.91006441,  -1.54419903,\n",
       "        -4.07454661,  -3.36350595,  -8.43136399,  -3.12186165,\n",
       "        -3.81759853,  -5.51477025,  -4.38368755,  -1.70320929,\n",
       "        -1.91153719,  -2.50817762,  -1.81446383,  -0.80326189,\n",
       "        -5.46123669,  -3.71048234,  -2.36146616,  -3.6747576 ,\n",
       "        -2.14603388,  -2.91117586,  -3.94459815,  -0.84735767,\n",
       "        -0.39350653,  -1.677577  ,  -1.67679452,  -0.83817418,\n",
       "        -2.35534523,  -5.43936784,  -4.13826279,  -3.66597529,\n",
       "        -1.54281589,  -2.36743662,  -3.46619611,  -5.09066785,\n",
       "        -5.48114575,  -2.75474924,  -5.42680103,  -3.35723189,\n",
       "        -2.06797098,  -3.3904358 ,  -5.17356992,  -2.79534017,\n",
       "        -1.89828078,  -1.22352785,  -3.50099312,  -1.43969557,\n",
       "        -2.49849389,  -4.1360437 ,  -7.14397785,  -3.46083645,\n",
       "        -0.98497997,  -1.35587169,  -4.07454661,  -4.61251682,\n",
       "        -1.85208473,  -2.61866301,  -5.29107212,  -3.1965235 ,\n",
       "        -3.27746087,  -5.07527594,  -4.25048903,  -2.65147251,\n",
       "        -3.32127905,  -0.23647355,  -5.91413327,  -2.19068424,\n",
       "        -7.37196013,  -4.38857815,  -0.47671805,  -1.67679452,\n",
       "        -2.07117081,  -2.72181274,  -1.54861269,  -2.45093906,\n",
       "        -2.48465946,  -1.67176817,  -2.57572244,  -5.02748194,\n",
       "        -4.90448624,   0.56245321,  -2.8027074 ,  -1.87750948,\n",
       "        -1.96319875,  -6.66998091,  -4.31972746,  -2.96884167,\n",
       "        -5.5316502 ,  -5.86637547,  -1.69269129,  -4.41405006,\n",
       "        -7.11712268,  -6.09319848,  -4.31519643,  -2.54761649,\n",
       "        -1.53530668,  -2.07607676,  -4.5148785 ,  -1.14408375,\n",
       "        -3.39488816,  -5.56547812,  -1.08606044,  -2.75462039,\n",
       "        -4.24516685,  -6.02353301,  -1.45397923,  -3.43202403,\n",
       "        -5.44268474,  -3.7144253 ,  -3.19413921,  -3.73352659,\n",
       "        -2.72015257,   0.60831683,  -4.54440128,  -2.58093883,\n",
       "        -4.1360437 ,  -4.32947161,  -2.72900687,  -3.44742174,\n",
       "        -5.24205073,  -0.05173979,  -6.49171278,  -1.93668452,\n",
       "        -5.28798984,  -4.37718345,  -3.00792612,  -2.86163393,\n",
       "        -1.96608945,  -4.65921669,  -5.14453946,  -3.43141273,\n",
       "        -4.36489994,  -2.73235789,  -3.13523805,  -2.30714445,\n",
       "        -2.46399409,  -1.91509076,   0.81803038,  -1.43582956,\n",
       "        -3.39898025,  -4.61071054,  -7.13939426,  -4.63484209,\n",
       "        -3.96854426,  -2.59866556,  -4.60015378,   0.01412321,\n",
       "        -3.53165487,   1.85537737,  -2.49148584,  -0.73322286,\n",
       "        -1.91006441,  -4.48685389,  -0.07435588,  -2.08696527,\n",
       "        -4.92147551,  -5.98649699,  -3.29730089,  -1.71607354,\n",
       "        -3.33565163,  -3.12186165,  -1.11030128,  -1.82368334,\n",
       "        -1.83789658,  -3.31076844,  -6.39498589,  -2.04073667,\n",
       "        -2.49849389,   2.43894553,  -1.22948407,  -2.88574916,\n",
       "        -1.65197886,  -4.31872905,  -2.92904674,  -3.10136443,\n",
       "        -4.38861114,  -1.81446383,  -4.40209507,  -3.77984724,\n",
       "        -4.61251682,  -6.0956394 ,  -3.56222389,  -4.30634669,\n",
       "        -0.28065278,  -5.70731435,  -1.14408375,  -4.01906648,\n",
       "        -2.65539053,  -1.881233  ,  -4.79734732,  -4.17804694,\n",
       "        -7.77761196,  -4.19072144,  -3.27827865,  -3.55522754,\n",
       "        -3.92244881,  -2.57137416,  -4.62318643,  -3.93846687,\n",
       "        -4.89499214,  -3.11689297,  -2.28095614,  -2.27607169,\n",
       "        -2.83891735,  -1.1618142 ,  -4.13704407,  -1.35779931,\n",
       "        -1.87936647,  -5.78785941,  -6.34984501,  -7.74681081,\n",
       "        -4.13662421,  -1.97942716,  -1.36335664,  -0.33198376,\n",
       "        -1.10024859,  -6.38434339,  -3.79262872,  -2.70826013,\n",
       "        -5.07527594,  -4.8173216 ,  -7.04654449])"
      ]
     },
     "execution_count": 16,
     "metadata": {},
     "output_type": "execute_result"
    }
   ],
   "execution_count": 16
  },
  {
   "metadata": {
    "ExecuteTime": {
     "end_time": "2024-10-08T13:10:13.579143Z",
     "start_time": "2024-10-08T13:10:13.556358Z"
    }
   },
   "cell_type": "code",
   "source": "y_lr_test_pred",
   "id": "e3ad0d5637dbd1ed",
   "outputs": [
    {
     "data": {
      "text/plain": [
       "array([-1.53917269, -6.08287944, -5.28375883, -3.27746087, -1.70320929,\n",
       "       -5.63167711, -1.43239582, -2.74544339, -3.43274443, -3.79048137,\n",
       "       -1.26884289, -1.54861269, -3.72258406, -3.25962057, -3.76344744,\n",
       "       -2.13317387, -2.00365994, -4.80828381, -1.43582956, -2.81358533,\n",
       "       -2.37870232, -1.45080608, -3.71048234, -3.06158669, -1.12854214,\n",
       "       -1.11007232, -2.45566761, -5.0338893 , -3.29087978, -4.21832264,\n",
       "       -2.45834377, -3.09200621, -3.89726792, -1.85208473, -2.17761301,\n",
       "       -6.01542152, -1.06493784, -2.35071265, -1.72034021, -1.45695216,\n",
       "       -1.85208473, -6.66998091, -1.23899725, -1.46015868, -1.65115215,\n",
       "       -3.79048137, -4.73551134, -1.09859266, -0.69404611, -1.91048017,\n",
       "       -3.16121056, -2.34753749, -2.01980335, -2.51436431, -7.04012802,\n",
       "       -5.27488937, -4.18979204, -2.9647599 , -1.7364388 , -1.64388527,\n",
       "       -4.60884756, -4.84900677, -0.18955927, -1.73839902, -1.63779456,\n",
       "       -2.01616982, -1.46391856, -7.64117637, -1.34518182, -2.28204094,\n",
       "       -4.61251682, -3.68259142, -3.22251183, -5.16075847, -2.1483811 ,\n",
       "       -2.07607676, -1.81561364, -2.35312712, -5.03153948, -5.35648355,\n",
       "       -0.81613933, -3.67501678, -5.63795589, -0.78415377, -3.13201883,\n",
       "       -1.81174763, -5.14700571,  1.13125267, -0.47305289, -3.93153406,\n",
       "       -4.8733322 , -1.17801962, -2.15050196, -2.58388566,  1.12994853,\n",
       "       -8.66482607, -3.8983998 , -1.59441957, -2.20288627, -5.26282707,\n",
       "       -2.76987509, -5.42806373, -1.27911139, -2.33457807, -4.6588233 ,\n",
       "       -7.26140165, -5.34312066, -0.66718494, -6.38434339, -4.01980772,\n",
       "       -2.46854687, -5.3318694 , -4.60015378, -6.37044332, -2.33428187,\n",
       "       -1.91765773, -2.22777384, -2.07999886, -3.3320867 , -0.75919502,\n",
       "       -1.01798361, -2.98085644, -4.37252867, -5.3111226 , -2.72015257,\n",
       "       -2.70246249, -1.61121439,  1.40322611, -4.2837828 , -3.89106644,\n",
       "       -0.7259909 , -2.29209364, -3.22644351, -0.39254905, -3.1498734 ,\n",
       "       -5.70731435, -5.29651733, -1.75260761, -1.43582956, -2.72900687,\n",
       "       -3.92961996, -3.74280639, -1.9653113 , -1.33821542, -3.89726792,\n",
       "       -6.08562232, -4.4730887 , -4.54440128, -6.67351198, -3.12186165,\n",
       "       -1.44588226, -1.44892561, -1.63121936, -2.09005156, -6.08562232,\n",
       "       -4.29427126, -2.07752796, -3.58240751, -1.07499053, -4.92907534,\n",
       "       -6.49056433, -1.06880384, -2.46094328, -3.05417721, -4.9802434 ,\n",
       "       -5.77353535, -3.97932544, -2.35071265, -2.28890565, -0.84735767,\n",
       "       -2.82178231, -1.43582956, -0.98497997, -4.19034629, -2.51659019,\n",
       "       -6.02394669, -2.72733014, -2.13423693, -4.61167881, -2.54561346,\n",
       "       -3.48722684, -2.72733014, -0.89204913, -2.16864249, -4.36489994,\n",
       "       -4.19146993, -0.53725099, -0.96961412, -5.05314827, -1.0193366 ,\n",
       "       -6.38434339, -3.46506424, -1.91048017, -1.31048759, -2.19960141,\n",
       "       -2.36072985, -4.89274622, -1.70320929, -0.10079998, -2.09823418,\n",
       "       -3.58726393, -1.50010279, -2.02346393, -2.37957801, -1.63988079,\n",
       "       -2.36563493, -1.36979039, -4.74043162, -2.80897252, -1.54419903,\n",
       "       -2.12829672, -2.59386818, -3.72312418, -3.71134074, -3.29215116,\n",
       "       -2.72733014, -3.29183556, -3.2715436 , -3.79048137, -3.65309971,\n",
       "       -2.08696527, -2.46165126, -6.49056433, -1.71743786,  0.22974901,\n",
       "       -1.91509076, -3.00635454, -3.10567883, -1.48599039])"
      ]
     },
     "execution_count": 17,
     "metadata": {},
     "output_type": "execute_result"
    }
   ],
   "execution_count": 17
  },
  {
   "metadata": {
    "ExecuteTime": {
     "end_time": "2024-10-08T13:14:57.981169Z",
     "start_time": "2024-10-08T13:14:57.966946Z"
    }
   },
   "cell_type": "code",
   "source": [
    "from sklearn.metrics import mean_squared_error, r2_score\n",
    "lr_train_mse = mean_squared_error(y_train, y_lr_train_pred)\n",
    "lr_train_r2 = r2_score(y_train, y_lr_train_pred)\n",
    "\n",
    "lr_test_mse = mean_squared_error(y_test, y_lr_test_pred)\n",
    "lr_test_r2 = r2_score(y_test, y_lr_test_pred)"
   ],
   "id": "f376018e1ad45c97",
   "outputs": [],
   "execution_count": 20
  },
  {
   "metadata": {
    "ExecuteTime": {
     "end_time": "2024-10-08T13:15:19.147860Z",
     "start_time": "2024-10-08T13:15:19.123581Z"
    }
   },
   "cell_type": "code",
   "source": "lr_train_mse",
   "id": "ef7755fd9906e552",
   "outputs": [
    {
     "data": {
      "text/plain": [
       "1.0139894491573003"
      ]
     },
     "execution_count": 21,
     "metadata": {},
     "output_type": "execute_result"
    }
   ],
   "execution_count": 21
  },
  {
   "metadata": {
    "ExecuteTime": {
     "end_time": "2024-10-08T13:15:32.107045Z",
     "start_time": "2024-10-08T13:15:32.088259Z"
    }
   },
   "cell_type": "code",
   "source": "lr_train_r2",
   "id": "6f2abf0c15a5f942",
   "outputs": [
    {
     "data": {
      "text/plain": [
       "0.7695127746587307"
      ]
     },
     "execution_count": 22,
     "metadata": {},
     "output_type": "execute_result"
    }
   ],
   "execution_count": 22
  },
  {
   "metadata": {
    "ExecuteTime": {
     "end_time": "2024-10-08T13:15:42.875433Z",
     "start_time": "2024-10-08T13:15:42.854723Z"
    }
   },
   "cell_type": "code",
   "source": "lr_test_mse",
   "id": "bbcbf07f91d2fee8",
   "outputs": [
    {
     "data": {
      "text/plain": [
       "0.9990844407075307"
      ]
     },
     "execution_count": 23,
     "metadata": {},
     "output_type": "execute_result"
    }
   ],
   "execution_count": 23
  },
  {
   "metadata": {
    "ExecuteTime": {
     "end_time": "2024-10-08T13:15:56.482773Z",
     "start_time": "2024-10-08T13:15:56.452960Z"
    }
   },
   "cell_type": "code",
   "source": "lr_test_r2",
   "id": "9435c89efc8fada6",
   "outputs": [
    {
     "data": {
      "text/plain": [
       "0.7705650058569231"
      ]
     },
     "execution_count": 24,
     "metadata": {},
     "output_type": "execute_result"
    }
   ],
   "execution_count": 24
  },
  {
   "metadata": {
    "ExecuteTime": {
     "end_time": "2024-10-08T13:21:01.784099Z",
     "start_time": "2024-10-08T13:21:01.754481Z"
    }
   },
   "cell_type": "code",
   "source": [
    "lr_results = pd.DataFrame((\"Linear regression\", lr_train_mse, lr_train_r2, lr_test_mse, lr_test_r2)).transpose()\n",
    "lr_results.columns = [\"Method\", \"Training MSE\", \"Training R2\", \"Testing MSE\", \"Testing R2\"]\n",
    "lr_results"
   ],
   "id": "75db1d13f2e16eec",
   "outputs": [
    {
     "data": {
      "text/plain": [
       "              Method Training MSE Training R2 Testing MSE Testing R2\n",
       "0  Linear regression     1.013989    0.769513    0.999084   0.770565"
      ],
      "text/html": [
       "<div>\n",
       "<style scoped>\n",
       "    .dataframe tbody tr th:only-of-type {\n",
       "        vertical-align: middle;\n",
       "    }\n",
       "\n",
       "    .dataframe tbody tr th {\n",
       "        vertical-align: top;\n",
       "    }\n",
       "\n",
       "    .dataframe thead th {\n",
       "        text-align: right;\n",
       "    }\n",
       "</style>\n",
       "<table border=\"1\" class=\"dataframe\">\n",
       "  <thead>\n",
       "    <tr style=\"text-align: right;\">\n",
       "      <th></th>\n",
       "      <th>Method</th>\n",
       "      <th>Training MSE</th>\n",
       "      <th>Training R2</th>\n",
       "      <th>Testing MSE</th>\n",
       "      <th>Testing R2</th>\n",
       "    </tr>\n",
       "  </thead>\n",
       "  <tbody>\n",
       "    <tr>\n",
       "      <th>0</th>\n",
       "      <td>Linear regression</td>\n",
       "      <td>1.013989</td>\n",
       "      <td>0.769513</td>\n",
       "      <td>0.999084</td>\n",
       "      <td>0.770565</td>\n",
       "    </tr>\n",
       "  </tbody>\n",
       "</table>\n",
       "</div>"
      ]
     },
     "execution_count": 28,
     "metadata": {},
     "output_type": "execute_result"
    }
   ],
   "execution_count": 28
  },
  {
   "metadata": {},
   "cell_type": "code",
   "outputs": [],
   "execution_count": null,
   "source": "",
   "id": "9a8ccd16b947949d"
  },
  {
   "metadata": {},
   "cell_type": "markdown",
   "source": "## **Random Forest**",
   "id": "725e28e976ccef4"
  },
  {
   "metadata": {
    "ExecuteTime": {
     "end_time": "2024-10-08T13:26:50.879340Z",
     "start_time": "2024-10-08T13:26:50.417515Z"
    }
   },
   "cell_type": "code",
   "source": [
    "from sklearn.ensemble import RandomForestRegressor\n",
    "rf = RandomForestRegressor(max_depth=2, random_state=100)\n",
    "rf.fit(x_train, y_train)"
   ],
   "id": "75dcc4cb3d6a2cbe",
   "outputs": [
    {
     "data": {
      "text/plain": [
       "RandomForestRegressor(max_depth=2, random_state=100)"
      ],
      "text/html": [
       "<style>#sk-container-id-2 {color: black;}#sk-container-id-2 pre{padding: 0;}#sk-container-id-2 div.sk-toggleable {background-color: white;}#sk-container-id-2 label.sk-toggleable__label {cursor: pointer;display: block;width: 100%;margin-bottom: 0;padding: 0.3em;box-sizing: border-box;text-align: center;}#sk-container-id-2 label.sk-toggleable__label-arrow:before {content: \"▸\";float: left;margin-right: 0.25em;color: #696969;}#sk-container-id-2 label.sk-toggleable__label-arrow:hover:before {color: black;}#sk-container-id-2 div.sk-estimator:hover label.sk-toggleable__label-arrow:before {color: black;}#sk-container-id-2 div.sk-toggleable__content {max-height: 0;max-width: 0;overflow: hidden;text-align: left;background-color: #f0f8ff;}#sk-container-id-2 div.sk-toggleable__content pre {margin: 0.2em;color: black;border-radius: 0.25em;background-color: #f0f8ff;}#sk-container-id-2 input.sk-toggleable__control:checked~div.sk-toggleable__content {max-height: 200px;max-width: 100%;overflow: auto;}#sk-container-id-2 input.sk-toggleable__control:checked~label.sk-toggleable__label-arrow:before {content: \"▾\";}#sk-container-id-2 div.sk-estimator input.sk-toggleable__control:checked~label.sk-toggleable__label {background-color: #d4ebff;}#sk-container-id-2 div.sk-label input.sk-toggleable__control:checked~label.sk-toggleable__label {background-color: #d4ebff;}#sk-container-id-2 input.sk-hidden--visually {border: 0;clip: rect(1px 1px 1px 1px);clip: rect(1px, 1px, 1px, 1px);height: 1px;margin: -1px;overflow: hidden;padding: 0;position: absolute;width: 1px;}#sk-container-id-2 div.sk-estimator {font-family: monospace;background-color: #f0f8ff;border: 1px dotted black;border-radius: 0.25em;box-sizing: border-box;margin-bottom: 0.5em;}#sk-container-id-2 div.sk-estimator:hover {background-color: #d4ebff;}#sk-container-id-2 div.sk-parallel-item::after {content: \"\";width: 100%;border-bottom: 1px solid gray;flex-grow: 1;}#sk-container-id-2 div.sk-label:hover label.sk-toggleable__label {background-color: #d4ebff;}#sk-container-id-2 div.sk-serial::before {content: \"\";position: absolute;border-left: 1px solid gray;box-sizing: border-box;top: 0;bottom: 0;left: 50%;z-index: 0;}#sk-container-id-2 div.sk-serial {display: flex;flex-direction: column;align-items: center;background-color: white;padding-right: 0.2em;padding-left: 0.2em;position: relative;}#sk-container-id-2 div.sk-item {position: relative;z-index: 1;}#sk-container-id-2 div.sk-parallel {display: flex;align-items: stretch;justify-content: center;background-color: white;position: relative;}#sk-container-id-2 div.sk-item::before, #sk-container-id-2 div.sk-parallel-item::before {content: \"\";position: absolute;border-left: 1px solid gray;box-sizing: border-box;top: 0;bottom: 0;left: 50%;z-index: -1;}#sk-container-id-2 div.sk-parallel-item {display: flex;flex-direction: column;z-index: 1;position: relative;background-color: white;}#sk-container-id-2 div.sk-parallel-item:first-child::after {align-self: flex-end;width: 50%;}#sk-container-id-2 div.sk-parallel-item:last-child::after {align-self: flex-start;width: 50%;}#sk-container-id-2 div.sk-parallel-item:only-child::after {width: 0;}#sk-container-id-2 div.sk-dashed-wrapped {border: 1px dashed gray;margin: 0 0.4em 0.5em 0.4em;box-sizing: border-box;padding-bottom: 0.4em;background-color: white;}#sk-container-id-2 div.sk-label label {font-family: monospace;font-weight: bold;display: inline-block;line-height: 1.2em;}#sk-container-id-2 div.sk-label-container {text-align: center;}#sk-container-id-2 div.sk-container {/* jupyter's `normalize.less` sets `[hidden] { display: none; }` but bootstrap.min.css set `[hidden] { display: none !important; }` so we also need the `!important` here to be able to override the default hidden behavior on the sphinx rendered scikit-learn.org. See: https://github.com/scikit-learn/scikit-learn/issues/21755 */display: inline-block !important;position: relative;}#sk-container-id-2 div.sk-text-repr-fallback {display: none;}</style><div id=\"sk-container-id-2\" class=\"sk-top-container\"><div class=\"sk-text-repr-fallback\"><pre>RandomForestRegressor(max_depth=2, random_state=100)</pre><b>In a Jupyter environment, please rerun this cell to show the HTML representation or trust the notebook. <br />On GitHub, the HTML representation is unable to render, please try loading this page with nbviewer.org.</b></div><div class=\"sk-container\" hidden><div class=\"sk-item\"><div class=\"sk-estimator sk-toggleable\"><input class=\"sk-toggleable__control sk-hidden--visually\" id=\"sk-estimator-id-2\" type=\"checkbox\" checked><label for=\"sk-estimator-id-2\" class=\"sk-toggleable__label sk-toggleable__label-arrow\">RandomForestRegressor</label><div class=\"sk-toggleable__content\"><pre>RandomForestRegressor(max_depth=2, random_state=100)</pre></div></div></div></div></div>"
      ]
     },
     "execution_count": 29,
     "metadata": {},
     "output_type": "execute_result"
    }
   ],
   "execution_count": 29
  },
  {
   "metadata": {
    "ExecuteTime": {
     "end_time": "2024-10-08T13:28:16.060360Z",
     "start_time": "2024-10-08T13:28:16.020508Z"
    }
   },
   "cell_type": "code",
   "source": [
    "y_rf_train_pred = rf.predict(x_train)\n",
    "y_rf_test_pred = rf.predict(x_test)"
   ],
   "id": "f329261ba980165a",
   "outputs": [],
   "execution_count": 30
  },
  {
   "metadata": {
    "ExecuteTime": {
     "end_time": "2024-10-08T13:30:31.381442Z",
     "start_time": "2024-10-08T13:30:31.360640Z"
    }
   },
   "cell_type": "code",
   "source": [
    "from sklearn.metrics import mean_squared_error, r2_score\n",
    "\n",
    "rf_train_mse = mean_squared_error(y_train, y_rf_train_pred)\n",
    "rf_train_r2 = r2_score(y_train, y_rf_train_pred)\n",
    "\n",
    "rf_test_mse = mean_squared_error(y_test, y_rf_test_pred)\n",
    "rf_test_r2 = r2_score(y_test, y_rf_test_pred)"
   ],
   "id": "26cfbb211734d32f",
   "outputs": [],
   "execution_count": 31
  },
  {
   "metadata": {
    "ExecuteTime": {
     "end_time": "2024-10-08T13:35:06.597784Z",
     "start_time": "2024-10-08T13:35:06.576909Z"
    }
   },
   "cell_type": "code",
   "source": [
    "rf_results = pd.DataFrame((\"Random forest\", rf_train_mse, rf_train_r2, rf_test_mse, rf_test_r2)).transpose()\n",
    "rf_results.columns = [\"Method\", \"Training MSE\", \"Training R2\", \"Testing MSE\", \"Testing R2\"]\n",
    "rf_results"
   ],
   "id": "568ae74fb9d80336",
   "outputs": [
    {
     "data": {
      "text/plain": [
       "          Method Training MSE Training R2 Testing MSE Testing R2\n",
       "0  Random forest     1.057186    0.759694     1.05209   0.758393"
      ],
      "text/html": [
       "<div>\n",
       "<style scoped>\n",
       "    .dataframe tbody tr th:only-of-type {\n",
       "        vertical-align: middle;\n",
       "    }\n",
       "\n",
       "    .dataframe tbody tr th {\n",
       "        vertical-align: top;\n",
       "    }\n",
       "\n",
       "    .dataframe thead th {\n",
       "        text-align: right;\n",
       "    }\n",
       "</style>\n",
       "<table border=\"1\" class=\"dataframe\">\n",
       "  <thead>\n",
       "    <tr style=\"text-align: right;\">\n",
       "      <th></th>\n",
       "      <th>Method</th>\n",
       "      <th>Training MSE</th>\n",
       "      <th>Training R2</th>\n",
       "      <th>Testing MSE</th>\n",
       "      <th>Testing R2</th>\n",
       "    </tr>\n",
       "  </thead>\n",
       "  <tbody>\n",
       "    <tr>\n",
       "      <th>0</th>\n",
       "      <td>Random forest</td>\n",
       "      <td>1.057186</td>\n",
       "      <td>0.759694</td>\n",
       "      <td>1.05209</td>\n",
       "      <td>0.758393</td>\n",
       "    </tr>\n",
       "  </tbody>\n",
       "</table>\n",
       "</div>"
      ]
     },
     "execution_count": 35,
     "metadata": {},
     "output_type": "execute_result"
    }
   ],
   "execution_count": 35
  },
  {
   "metadata": {
    "ExecuteTime": {
     "end_time": "2024-10-08T13:35:10.842577Z",
     "start_time": "2024-10-08T13:35:10.830622Z"
    }
   },
   "cell_type": "code",
   "source": "df_models = pd.concat((lr_results, rf_results), axis=0)",
   "id": "2c2b9465477ae6dc",
   "outputs": [],
   "execution_count": 36
  },
  {
   "metadata": {
    "ExecuteTime": {
     "end_time": "2024-10-08T13:35:11.973219Z",
     "start_time": "2024-10-08T13:35:11.949769Z"
    }
   },
   "cell_type": "code",
   "source": "df_models",
   "id": "8725c7928a937b14",
   "outputs": [
    {
     "data": {
      "text/plain": [
       "              Method Training MSE Training R2 Testing MSE Testing R2\n",
       "0  Linear regression     1.013989    0.769513    0.999084   0.770565\n",
       "0      Random forest     1.057186    0.759694     1.05209   0.758393"
      ],
      "text/html": [
       "<div>\n",
       "<style scoped>\n",
       "    .dataframe tbody tr th:only-of-type {\n",
       "        vertical-align: middle;\n",
       "    }\n",
       "\n",
       "    .dataframe tbody tr th {\n",
       "        vertical-align: top;\n",
       "    }\n",
       "\n",
       "    .dataframe thead th {\n",
       "        text-align: right;\n",
       "    }\n",
       "</style>\n",
       "<table border=\"1\" class=\"dataframe\">\n",
       "  <thead>\n",
       "    <tr style=\"text-align: right;\">\n",
       "      <th></th>\n",
       "      <th>Method</th>\n",
       "      <th>Training MSE</th>\n",
       "      <th>Training R2</th>\n",
       "      <th>Testing MSE</th>\n",
       "      <th>Testing R2</th>\n",
       "    </tr>\n",
       "  </thead>\n",
       "  <tbody>\n",
       "    <tr>\n",
       "      <th>0</th>\n",
       "      <td>Linear regression</td>\n",
       "      <td>1.013989</td>\n",
       "      <td>0.769513</td>\n",
       "      <td>0.999084</td>\n",
       "      <td>0.770565</td>\n",
       "    </tr>\n",
       "    <tr>\n",
       "      <th>0</th>\n",
       "      <td>Random forest</td>\n",
       "      <td>1.057186</td>\n",
       "      <td>0.759694</td>\n",
       "      <td>1.05209</td>\n",
       "      <td>0.758393</td>\n",
       "    </tr>\n",
       "  </tbody>\n",
       "</table>\n",
       "</div>"
      ]
     },
     "execution_count": 37,
     "metadata": {},
     "output_type": "execute_result"
    }
   ],
   "execution_count": 37
  },
  {
   "metadata": {
    "ExecuteTime": {
     "end_time": "2024-10-08T13:36:23.706940Z",
     "start_time": "2024-10-08T13:36:23.680098Z"
    }
   },
   "cell_type": "code",
   "source": "df_models.reset_index(drop=True)",
   "id": "2e06be738da197a1",
   "outputs": [
    {
     "data": {
      "text/plain": [
       "              Method Training MSE Training R2 Testing MSE Testing R2\n",
       "0  Linear regression     1.013989    0.769513    0.999084   0.770565\n",
       "1      Random forest     1.057186    0.759694     1.05209   0.758393"
      ],
      "text/html": [
       "<div>\n",
       "<style scoped>\n",
       "    .dataframe tbody tr th:only-of-type {\n",
       "        vertical-align: middle;\n",
       "    }\n",
       "\n",
       "    .dataframe tbody tr th {\n",
       "        vertical-align: top;\n",
       "    }\n",
       "\n",
       "    .dataframe thead th {\n",
       "        text-align: right;\n",
       "    }\n",
       "</style>\n",
       "<table border=\"1\" class=\"dataframe\">\n",
       "  <thead>\n",
       "    <tr style=\"text-align: right;\">\n",
       "      <th></th>\n",
       "      <th>Method</th>\n",
       "      <th>Training MSE</th>\n",
       "      <th>Training R2</th>\n",
       "      <th>Testing MSE</th>\n",
       "      <th>Testing R2</th>\n",
       "    </tr>\n",
       "  </thead>\n",
       "  <tbody>\n",
       "    <tr>\n",
       "      <th>0</th>\n",
       "      <td>Linear regression</td>\n",
       "      <td>1.013989</td>\n",
       "      <td>0.769513</td>\n",
       "      <td>0.999084</td>\n",
       "      <td>0.770565</td>\n",
       "    </tr>\n",
       "    <tr>\n",
       "      <th>1</th>\n",
       "      <td>Random forest</td>\n",
       "      <td>1.057186</td>\n",
       "      <td>0.759694</td>\n",
       "      <td>1.05209</td>\n",
       "      <td>0.758393</td>\n",
       "    </tr>\n",
       "  </tbody>\n",
       "</table>\n",
       "</div>"
      ]
     },
     "execution_count": 38,
     "metadata": {},
     "output_type": "execute_result"
    }
   ],
   "execution_count": 38
  },
  {
   "metadata": {},
   "cell_type": "code",
   "outputs": [],
   "execution_count": null,
   "source": "",
   "id": "de49dbcf5abce97d"
  },
  {
   "metadata": {},
   "cell_type": "markdown",
   "source": "# **Scatter Plot**",
   "id": "c22a6935ad6a5322"
  },
  {
   "metadata": {
    "ExecuteTime": {
     "end_time": "2024-10-08T13:43:57.006246Z",
     "start_time": "2024-10-08T13:43:56.690940Z"
    }
   },
   "cell_type": "code",
   "source": [
    "import matplotlib.pyplot as plt \n",
    "import numpy as np\n",
    "\n",
    "plt.figure(figsize=(5, 5))\n",
    "plt.scatter(x = y_train, y = y_lr_train_pred, alpha = 0.3)\n",
    "\n",
    "z = np.polyfit(y_train, y_lr_train_pred, 1)\n",
    "p = np.poly1d(z)\n",
    "\n",
    "plt.plot(y_train, p(y_train), \"#F8766D\")\n",
    "plt.ylabel(\"Predict logS\")\n",
    "plt.xlabel(\"Actual logS\")"
   ],
   "id": "e8ed591367924af4",
   "outputs": [
    {
     "data": {
      "text/plain": [
       "Text(0.5, 0, 'Actual logS')"
      ]
     },
     "execution_count": 43,
     "metadata": {},
     "output_type": "execute_result"
    },
    {
     "data": {
      "text/plain": [
       "<Figure size 500x500 with 1 Axes>"
      ],
      "image/png": "[encoded data removed]"
     },
     "metadata": {},
     "output_type": "display_data"
    }
   ],
   "execution_count": 43
  },
  {
   "metadata": {},
   "cell_type": "code",
   "outputs": [],
   "execution_count": null,
   "source": "",
   "id": "d0a624deedde8a80"
  }
 ],
 "metadata": {
  "kernelspec": {
   "display_name": "Python 3",
   "language": "python",
   "name": "python3"
  },
  "language_info": {
   "codemirror_mode": {
    "name": "ipython",
    "version": 2
   },
   "file_extension": ".py",
   "mimetype": "text/x-python",
   "name": "python",
   "nbconvert_exporter": "python",
   "pygments_lexer": "ipython2",
   "version": "2.7.6"
  }
 },
 "nbformat": 4,
 "nbformat_minor": 5
}
